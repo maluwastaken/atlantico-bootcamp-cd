{
 "cells": [
  {
   "cell_type": "code",
   "execution_count": null,
   "id": "a1311e07",
   "metadata": {},
   "outputs": [],
   "source": [
    "from matplotlib import pyplot as plt\n",
    "import seaborn as sns\n",
    "import pandas as pd"
   ]
  },
  {
   "cell_type": "code",
   "execution_count": null,
   "id": "c909c299",
   "metadata": {},
   "outputs": [],
   "source": [
    "df = pd.read_csv('https://gist.githubusercontent.com/omadson/770934cb0df9e2d2c3e8db031f1139a5/raw/4d181efc035b327d9d66256915951384517c603e/arrecadacao.csv')\n",
    "df.head()"
   ]
  },
  {
   "cell_type": "code",
   "execution_count": null,
   "id": "dbfe240b",
   "metadata": {},
   "outputs": [],
   "source": [
    "df = df.assign(arrecadacao_milhao = df.arrecadacao / 1000000).sort_values(by='arrecadacao', ascending=False)"
   ]
  },
  {
   "cell_type": "code",
   "execution_count": null,
   "id": "5d0ff49f",
   "metadata": {},
   "outputs": [],
   "source": [
    "sns.set_style(\"whitegrid\")\n",
    "plt.figure(figsize=(5, 2))\n",
    "ax = sns.barplot(data=df, x='arrecadacao_milhao', y='titulo', color='tomato')"
   ]
  },
  {
   "cell_type": "code",
   "execution_count": null,
   "id": "ad8d4dc4",
   "metadata": {},
   "outputs": [],
   "source": [
    "ax.bar_label(\n",
    "    ax.containers[0],\n",
    "    fmt='%.1f',\n",
    "    label_type='center',\n",
    "    color='white'\n",
    ")"
   ]
  },
  {
   "cell_type": "code",
   "execution_count": null,
   "id": "16821a54",
   "metadata": {},
   "outputs": [],
   "source": [
    "plt.xlabel('Arrecadação (Milhões de dólares)')\n",
    "plt.ylabel('Filme')\n",
    "plt.title('Arrecadação de filmes')"
   ]
  },
  {
   "cell_type": "code",
   "execution_count": null,
   "id": "b24869d8",
   "metadata": {},
   "outputs": [],
   "source": [
    "ax.set(frame_on=False)\n",
    "ax.axvline(0, color=\"k\", clip_on=False)\n",
    "plt.show()"
   ]
  }
 ],
 "metadata": {
  "jupytext": {
   "formats": "py:nomarker",
   "text_representation": {
    "extension": ".py",
    "format_name": "nomarker",
    "format_version": "1.0",
    "jupytext_version": "1.14.1"
   }
  },
  "kernelspec": {
   "display_name": "Python 3 (ipykernel)",
   "language": "python",
   "name": "python3"
  }
 },
 "nbformat": 4,
 "nbformat_minor": 5
}
